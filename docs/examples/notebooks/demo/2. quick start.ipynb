{
 "cells": [
  {
   "cell_type": "markdown",
   "id": "bb4baa27",
   "metadata": {},
   "source": [
    "# QEC in one glance\n",
    "\n",
    "*Want to follow along? {nb-download}`Download this notebook.<2. quick start.ipynb>`*\n",
    "\n",
    "This notebook will demo you the essence of QEC experiment in a bird's eye view.\n",
    "\n",
    "If you don't have this notebook on your drive, please download it and put in the same folder you are already using for venv and jupyter. Done? Let's go!\n",
    "\n",
    "## Experiment in one cell\n",
    "\n",
    "QEC experiment today is build around performing some error-corrected operation multiple times. One of the types of such operation is called **quantum memory experiment**.\n",
    "This experiment prepares a logical basis state (e.g. $|0\\rangle_L$), performs error correction of a logical qubit for some number of rounds and then measures the logical state ($|\\psi\\rangle_L$, which might be the same, of flipped).\n",
    "Measured states in multiple \"shots\" are compared with predictions of a decoder. The closer predictions are to the logical state - the better is the combination of the code and the decoder.\n",
    "\n",
    "Quantum Z-memory experiment (this means that preparation and measurements is done in Z computation basis) may be expressed as logical quantum pseudocode:\n",
    "\n",
    "```\n",
    "reset qubit0;\n",
    "id qubit0;\n",
    "measure qubit0;\n",
    "```\n",
    "\n",
    "In an error corrected circuit `qubit0` becomes a set of qubits (aka data qubits). Unlike in classical error correction, these qubits\n",
    "cannot be measured while executing the algorithm, without disrupting the calculations. That is why data qubits are sneakily followed by ancillary qubits.\n",
    "Ancillary qubits entagle with neighbouring data qubits and perform the role of parity check. Every round of an experiment we measure\n",
    "ancillary qubits to learn if a state flip happened to their neighbours.\n",
    "\n",
    "QEC codes define which qubits perform which roles and how they entangle. Decoders use ancillary qubit measurements to predict corruption of a logical state."
   ]
  },
  {
   "cell_type": "code",
   "execution_count": null,
   "id": "9bffad86",
   "metadata": {},
   "outputs": [],
   "source": [
    "from deltakit.circuit.gates import PauliBasis\n",
    "from deltakit.explorer import enums, types\n",
    "\n",
    "experiment = types.QECExperimentDefinition(\n",
    "    experiment_type=enums.QECExperimentType.QUANTUM_MEMORY,  # we perform a quantum memory experiment\n",
    "    code_type=enums.QECECodeType.REPETITION,                 # we use repetition code for QEC\n",
    "    observable_basis=PauliBasis.Z,                           # this is a Z-basis experiment. We reset and measure in Z\n",
    "    num_rounds=1,                                            # smallest number of \"waiting rounds\"\n",
    "    parameters=types.CircuitParameters.from_sizes([3]),      # this is distance-3 (can correct chains of errors up to 3)\n",
    "    # ion trap gates\n",
    "    basis_gates = [\"SQRT_XX\", \"X\", \"Y\", \"Z\", \"SQRT_X\", \"SQRT_X_DAG\", \"S\", \"S_DAG\", \"MZ\", \"RZ\"],\n",
    ")"
   ]
  },
  {
   "cell_type": "markdown",
   "id": "9af00498",
   "metadata": {},
   "source": [
    "This is all we need to define a circuit for an experiment. Here are the following steps:\n",
    "\n",
    "1. Generate a circuit for the experiment.\n",
    "2. Simulate this circuit a statistically significant number of times.\n",
    "3. Decode simulation results.\n",
    "4. Perform required analysis to answer your research question."
   ]
  },
  {
   "cell_type": "code",
   "execution_count": null,
   "id": "742fb8c7",
   "metadata": {},
   "outputs": [],
   "source": [
    "from __future__ import annotations\n",
    "from deltakit.explorer import Client, enums, types\n",
    "\n",
    "\n",
    "client = Client.get_instance()\n",
    "\n",
    "# 1. get noisy circuit\n",
    "circuit = client.generate_circuit(experiment)\n",
    "noise = types.PhysicalNoiseModel.get_ion_trap_noise()\n",
    "noisy_circuit = client.add_noise(circuit, noise)\n",
    "\n",
    "# 2. Simulate and get QEC-specific data\n",
    "measurements, _ = client.simulate_stim_circuit(noisy_circuit, 500_000)\n",
    "detectors, observables = measurements.to_detectors_and_observables(noisy_circuit)\n",
    "\n",
    "# 3. decode\n",
    "decoder1 = types.Decoder(enums.DecoderType.MWPM)\n",
    "decoding_result1 = client.decode(detectors, observables, decoder1, noisy_circuit)\n",
    "\n",
    "decoder2 = types.Decoder(enums.DecoderType.AC)\n",
    "decoding_result2 = client.decode(detectors, observables, decoder2, noisy_circuit)\n",
    "\n",
    "# 4. analyse\n",
    "\n",
    "def print_result(decoder: str, result: types.DecodingResult):\n",
    "    print(\n",
    "        f\"Decoder {decoder}: \"\n",
    "        f\"LEP={result.get_logical_error_probability():.5f}\"\n",
    "        f\"±{result.get_standard_deviation():.5f} \"\n",
    "        f\"TIME={sum(result.times):.5f}s\"\n",
    "    )\n",
    "\n",
    "print_result(\"MWPM\", decoding_result1)\n",
    "print_result(\"AC\", decoding_result2)"
   ]
  },
  {
   "cell_type": "markdown",
   "id": "c2eebb70",
   "metadata": {},
   "source": [
    "## Exercise #1\n",
    "\n",
    "We've decoded **one** particular experiment, and every time you run it, you should have similar numbers.\n",
    "What we are often interested in is HOW the logical error probability responds to different parameter tweaking.\n",
    "\n",
    "Your first task is to complete the following code. For a fixed noise model and a fixed decoder,\n",
    "plot how the repetition code LEP scales with size."
   ]
  },
  {
   "cell_type": "code",
   "execution_count": null,
   "id": "f2df7df0",
   "metadata": {},
   "outputs": [],
   "source": [
    "import matplotlib.pyplot as plt\n",
    "import tqdm\n",
    "\n",
    "distances = [3, 5, 7, 9, 11]\n",
    "le_probabilities = []\n",
    "for distance in tqdm.tqdm(distances):\n",
    "    # update experiment parameters\n",
    "    experiment.parameters = types.CircuitParameters.from_sizes([distance])\n",
    "    experiment.num_rounds = distance\n",
    "    # define noise\n",
    "    noise = types.SI1000NoiseModel(0.01, 0.0)\n",
    "\n",
    "    # TODO: your code here!\n",
    "    # Add in the steps required to generate circuit,\n",
    "    # add noise, simulate and decode the syndrome measurements.\n",
    "    decoding_result = ...\n",
    "    \n",
    "    le_probabilities.append(decoding_result.get_logical_error_probability())\n",
    "\n",
    "plt.plot(distances, le_probabilities, label=f\"repcode+{enums.DecoderType.MWPM.name}\")\n",
    "\n",
    "plt.xlabel(\"distance\")\n",
    "plt.ylabel(\"logical error probability\")\n",
    "plt.legend()\n",
    "plt.grid()"
   ]
  },
  {
   "cell_type": "markdown",
   "id": "6c32f705",
   "metadata": {},
   "source": [
    "## Exercise #2\n",
    "\n",
    "Modify your code to compare `MWPM` and `BELIEF_MATCHING` decoders performance on the same simulation data.\n",
    "\n",
    "## After all\n",
    "\n",
    "Now you are ready to dive deeper into the details of experiment structure. Please, proceed to [Experiment step-by-step](3.%20experiment%20step%20by%20step.ipynb) notebook."
   ]
  }
 ],
 "metadata": {
  "kernelspec": {
   "display_name": "deltakit-explorer-py3.10",
   "language": "python",
   "name": "python3"
  },
  "language_info": {
   "codemirror_mode": {
    "name": "ipython",
    "version": 3
   },
   "file_extension": ".py",
   "mimetype": "text/x-python",
   "name": "python",
   "nbconvert_exporter": "python",
   "pygments_lexer": "ipython3",
   "version": "3.10.15"
  }
 },
 "nbformat": 4,
 "nbformat_minor": 5
}
