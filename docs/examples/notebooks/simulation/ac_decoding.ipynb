{
 "cells": [
  {
   "cell_type": "markdown",
   "id": "bcb05132-08f4-416c-976d-b1e4330e603b",
   "metadata": {},
   "source": [
    "# Decoding with Ambiguity Clustering\n",
    "\n",
    "*Want to follow along? {nb-download}`Download this notebook.<ac_decoding.ipynb>`*\n",
    "\n",
    "In this notebook, we demonstrate decoding with Riverlane's proprietary decoder: the [Ambiguity Clustering (AC) decoder](https://www.nature.com/articles/s41586-024-07107-7). In particular, we\n",
    "\n",
    "* generate a circuit for a surface code quantum memory experiment, define a noise model, and generate measurement and detector data from the circuit with the noise model applied;\n",
    "* decode the detector data with both AC and Pymatching (MWPM), and show that AC can achieve a better logical error probability;\n",
    "* generate a stim circuit implementation of IBM's 72-qubit bivariate bicycle code to generate measurement and detector data;\n",
    "* decode this data with both AC and BP-OSD to show that AC can decode much faster whilst maintaining a similar logical error probability."
   ]
  },
  {
   "cell_type": "markdown",
   "id": "681386db-1f5b-4779-a667-dc6c59767c9e",
   "metadata": {},
   "source": [
    "## Introduction\n",
    "\n",
    "Ambiguity Clustering (AC) is a prototype decoding algorithm for general qLDPC codes being developed by Riverlane. The purpose of this notebook is to demonstrate the decoder's capability decoding a surface code, benchmarking its performance against the [minimum weight perfect matching](https://arxiv.org/pdf/2105.13082) (MWPM) decoder. Then, we look at its performance on a qLDPC code ([IBM's 72-qubit bivariate bicycle code](https://arxiv.org/pdf/2308.07915)), and compare its performance with the [BP-OSD](https://github.com/quantumgizmos/bp_osd) decoder.\n",
    "\n",
    "Unlike 'matching' decoders such as MWPM (e.g. Pymatching), which operate on decoding *graphs* (that is, each error mechanism must trigger at most two checks), Ambiguity Clustering operates on a more general structure, the decoding *hypergraph* - or in other words, any Stim detector error model (DEM). This makes it suitable for decoding any QEC code for which a detector error model can be generated, including qLDPC codes.\n",
    "\n",
    "Even for the surface code, whose DEM can be well-approximated as a decoding graph so that we can run MWPM on it, AC can still potentially provide a logical fidelity gain over matching decoders, as by considering the full hypergraph it is able to 'see' correlations between Pauli X and Pauli Z errors occurring on qubits, to which MWPM is blind (unless you use a correlated matching technique). We demonstrate this accuracy gain here for a distance-7 surface code memory experiment.\n",
    "\n",
    "We then generate a stim circuit of IBM's 72-qubit bivariate bicycle code using the Deltakit API, and then decode with AC, demonstrating AC's superior speed with comparable accuracy to BP-OSD.\n",
    "\n",
    "### How it works\n",
    "\n",
    "AC is a two phase algorithm. First, like BP-OSD, it runs the belief propagation graphical inference algorithm on the decoding Tanner graph to get an approximate probability of occurrence for every error mechanism. Secondly, it applies a series of linear algebra operations to the parity check matrix to identify connected clusters of syndrome bits in the Tanner graph. It can then search over solutions to these clusters individually to find the most likely solutions to the syndrome."
   ]
  },
  {
   "cell_type": "markdown",
   "id": "38bd8016-4bc7-47c6-9f62-d45b614cdeaf",
   "metadata": {},
   "source": [
    "## Preparation\n",
    "### Perform all necessary imports"
   ]
  },
  {
   "cell_type": "code",
   "execution_count": 1,
   "id": "9fedef95-7ede-43ff-a59a-757189407949",
   "metadata": {},
   "outputs": [],
   "source": [
    "# Import prerequisites\n",
    "from __future__ import annotations\n",
    "\n",
    "from pathlib import Path\n",
    "\n",
    "import matplotlib.pyplot as plt\n",
    "import stim\n",
    "from deltakit.explorer import Client\n",
    "from deltakit.explorer.enums import DecoderType\n",
    "from deltakit.explorer.types import Decoder, PhysicalNoiseModel, QECExperimentDefinition"
   ]
  },
  {
   "cell_type": "code",
   "execution_count": 2,
   "id": "cf6f6709-d163-4bb4-89ff-1bfacac77b29",
   "metadata": {},
   "outputs": [],
   "source": [
    "client = Client.get_instance()\n",
    "example_circuits_folder = Path(\"../..\") / \"data/examples/qldpc\""
   ]
  },
  {
   "cell_type": "markdown",
   "id": "969653ba-6e01-4a2f-bc4c-01d1c551f740",
   "metadata": {},
   "source": [
    "## Generate Surface Code Data\n",
    "We generate data for rotated planar codes of distances 3, 5, 7, with the number of rounds of syndrome extraction matching the distance. We use a circuit-level noise model with p=0.5% for all the noise parameters. Gate times, T1 and T2 times allow to compute idleness durations and apply realistic idleness noise. For more details see the {ref}`client-add-noise-to-the-circuit` example."
   ]
  },
  {
   "cell_type": "code",
   "execution_count": 3,
   "id": "86701a94-05f6-4eba-9202-a81faa89cc8c",
   "metadata": {},
   "outputs": [],
   "source": [
    "# How many shots to run\n",
    "num_shots = 10000\n",
    "distances = [3, 5, 7]\n",
    "\n",
    "# Define p = 0.5% noise model\n",
    "noise_model = PhysicalNoiseModel(\n",
    "    t_1=50e-6,\n",
    "    t_2=50e-6,\n",
    "    time_1_qubit_gate=50e-9,\n",
    "    time_2_qubit_gate=100e-9,\n",
    "    time_measurement=500e-9,\n",
    "    time_reset=500e-9,\n",
    "    p_1_qubit_gate_error=0.002,\n",
    "    p_2_qubit_gate_error=0.002,\n",
    "    p_reset_error=0.002,\n",
    "    p_meas_qubit_error=0.002,\n",
    "    p_readout_flip=0.002,\n",
    ")\n",
    "\n",
    "# Generate noiseless circuits\n",
    "compiled_circuits = []\n",
    "measurements_files = []\n",
    "for distance in distances:\n",
    "    compiled_circuit = client.generate_circuit(\n",
    "        QECExperimentDefinition.get_rotated_planar_z_quantum_memory(\n",
    "            distance, distance, [\"CZ\", \"H\", \"MZ\", \"RZ\"]\n",
    "        )\n",
    "    )\n",
    "    compiled_circuits.append(compiled_circuit)\n",
    "    \n",
    "    # Add noise to circuit\n",
    "    noisy_circuit = client.add_noise(\n",
    "        stim_circuit=compiled_circuit,\n",
    "        noise_model=noise_model\n",
    "    )\n",
    "    \n",
    "    # Simulate noisy circuit to generate measurement data\n",
    "    measurements, _ = client.simulate_stim_circuit(\n",
    "        stim_circuit=noisy_circuit,\n",
    "        shots=num_shots,\n",
    "    )\n",
    "    measurements_files.append(measurements)"
   ]
  },
  {
   "cell_type": "markdown",
   "id": "1409bea3-bcb3-4505-8ce8-de59810f6415",
   "metadata": {},
   "source": [
    "## Decoding the surface code data with MWPM"
   ]
  },
  {
   "cell_type": "code",
   "execution_count": 4,
   "id": "3d286e9e-78fa-4444-a461-bb73a5641066",
   "metadata": {},
   "outputs": [],
   "source": [
    "mwpm_errors = []\n",
    "mwpm_error_bars = []\n",
    "# Loop through the circuits and perform MWPM decoding on each\n",
    "for _distance, compiled_circuit, measurements in zip(distances, compiled_circuits, measurements_files):\n",
    "    mwpm_result = client.decode_measurements(\n",
    "        measurements=measurements,\n",
    "        decoder=Decoder(DecoderType.MWPM, parallel_jobs=8),\n",
    "        ideal_stim_circuit=compiled_circuit,\n",
    "        noise_model=noise_model,\n",
    "    )\n",
    "    lep = mwpm_result.get_logical_error_probability()\n",
    "    std_deviation = mwpm_result.get_standard_deviation()\n",
    "    mwpm_errors.append(mwpm_result.get_logical_error_probability())\n",
    "    mwpm_error_bars.append(mwpm_result.get_standard_deviation())"
   ]
  },
  {
   "cell_type": "markdown",
   "id": "57ff0d86-434d-4a9b-8d7d-90835fb1e382",
   "metadata": {},
   "source": [
    "## Decoding the surface code data with AC\n",
    "We see that although AC takes longer to decode per shot than MWPM, it can achieve a lower logical error probability (note there is significant variance per run). This is because it operates on the whole, undecomposed, detector error model, and so can 'see' correlations between X and Z errors."
   ]
  },
  {
   "cell_type": "code",
   "execution_count": 5,
   "id": "43cec93a-a165-4e7f-8c33-af1487920f00",
   "metadata": {},
   "outputs": [],
   "source": [
    "ac_errors, ac_error_bars = [], []\n",
    "kappa = 0.02\n",
    "# Loop through the circuits and perform AC decoding on each\n",
    "for distance, compiled_circuit, measurements in zip(\n",
    "    distances, compiled_circuits, measurements_files):\n",
    "    ac_result = client.decode_measurements(\n",
    "        measurements=measurements,\n",
    "        noise_model=noise_model,\n",
    "        decoder=Decoder(\n",
    "            DecoderType.AC,\n",
    "            parallel_jobs=8,\n",
    "            parameters={\n",
    "                \"decompose_errors\": False,\n",
    "                \"bp_rounds\": distance,\n",
    "                \"ac_kappa_proportion\": kappa,\n",
    "            }\n",
    "        ),\n",
    "        ideal_stim_circuit=compiled_circuit,\n",
    "    )\n",
    "    error_probability = ac_result.get_logical_error_probability()\n",
    "    std_deviation = ac_result.get_standard_deviation()\n",
    "    \n",
    "    ac_errors.append(error_probability)\n",
    "    ac_error_bars.append(std_deviation)\n",
    "    "
   ]
  },
  {
   "cell_type": "code",
   "execution_count": 6,
   "id": "f60f06d0-80e7-417b-91b0-8449b22ab95e",
   "metadata": {},
   "outputs": [
    {
     "data": {
      "text/plain": [
       "<matplotlib.legend.Legend at 0x11ebb3730>"
      ]
     },
     "execution_count": 6,
     "metadata": {},
     "output_type": "execute_result"
    },
    {
     "data": {
      "image/png": "[encoded data removed]",
      "text/plain": [
       "<Figure size 640x480 with 1 Axes>"
      ]
     },
     "metadata": {},
     "output_type": "display_data"
    }
   ],
   "source": [
    "plt.errorbar(distances, mwpm_errors, yerr = mwpm_error_bars, color=\"#00968f\", capsize = 3, label = \"MWPM\", fmt = 's')\n",
    "plt.errorbar(distances, ac_errors, yerr = ac_error_bars, color=\"#ff7500\", capsize = 3, label = \"Ambiguity Clustering\", fmt = 'd')\n",
    "plt.grid(color=\"gray\", linestyle=\":\", linewidth=1)\n",
    "plt.xticks(distances)\n",
    "plt.xlabel(\"Code distance\")\n",
    "plt.ylabel(\"Logical error probability\")\n",
    "plt.yscale('log')\n",
    "plt.legend()"
   ]
  },
  {
   "cell_type": "markdown",
   "id": "6b26bebb",
   "metadata": {},
   "source": [
    "## Decoding qLDPC codes\n",
    "Quantum low-density parity check (qLDPC) codes are the current leading family of error correcting codes. These codes allow for the possibility of fault-tolerant quantum computation with lower overheads (fewer physical qubits needed per encoded logical qubit) compared to conventional codes, such as the surface code.\n",
    "\n",
    "We will deal with one such qLDPC code, IBM's 72-qubit bivariate bicycle code, which makes use of 72 physical qubits to encode 12 logical qubits, and has a distance of 6. This gives it code parameters [[72, 12, 6]]. "
   ]
  },
  {
   "cell_type": "markdown",
   "id": "eadb3211-40b4-4217-9721-8dd40cad64a3",
   "metadata": {},
   "source": [
    "### Read-in circuit\n",
    "Here we use a Stim circuit implementing the 72-qubit code at a 0.5% physical error rate (generated using a script from [Gong et al.](https://arxiv.org/pdf/2403.18901); repo [here](https://github.com/gongaa/SlidingWindowDecoder)). The noise model is a realistic noise model for superconducting qubits. Parameters are listed below."
   ]
  },
  {
   "cell_type": "code",
   "execution_count": 7,
   "id": "ada5a8a8",
   "metadata": {},
   "outputs": [],
   "source": [
    "# Code parameters, for naming files\n",
    "code_name = \"[[72,12,6]]\"\n",
    "\n",
    "# How many shots to run\n",
    "num_shots = 1000\n",
    "noise_model = PhysicalNoiseModel.get_superconducting_noise()\n",
    "# Read-in the pre-generated circuit\n",
    "noisy_circuit = str(stim.Circuit.from_file(example_circuits_folder / f\"{code_name}p=0.005.stim\"))"
   ]
  },
  {
   "cell_type": "markdown",
   "id": "f78f30c1-4d02-4f38-b6a8-e6a5e35d63ba",
   "metadata": {},
   "source": [
    "### Simulate measurements, generate detectors and observables"
   ]
  },
  {
   "cell_type": "code",
   "execution_count": 8,
   "id": "b776606c-6081-4108-b285-6062669eb366",
   "metadata": {},
   "outputs": [],
   "source": [
    "# Simulate noisy circuit to generate measurement data\n",
    "measurements, _ = client.simulate_stim_circuit(\n",
    "    stim_circuit=noisy_circuit,\n",
    "    shots=num_shots,\n",
    ")\n",
    "\n",
    "# Convert the measurement data to detectors and observables\n",
    "detectors, observables = measurements.to_detectors_and_observables(\n",
    "    stim_circuit=noisy_circuit,\n",
    ")"
   ]
  },
  {
   "cell_type": "markdown",
   "id": "c99d24a5-2d98-483c-bc51-1ee9670ebae4",
   "metadata": {},
   "source": [
    "### Decode with AC and BP-OSD\n",
    "\n",
    "Here we demonstrate decoding of IBM's 72 qubit bivariate bicycle code with AC, and, for comparison, with BP-OSD.\n",
    "These BP parameters for the two algorithms are empirically found to work well. Since BP-OSD has a much heavier post-processing step than AC, it makes sense that the algorithm benefits from more rounds of BP.\n",
    "\n",
    "In our example, we demonstrate AC's superior decoding time compared to BP_OSD, whilst maintaining a comparable logical error rate."
   ]
  },
  {
   "cell_type": "code",
   "execution_count": 9,
   "id": "cf9e799e",
   "metadata": {},
   "outputs": [
    {
     "name": "stdout",
     "output_type": "stream",
     "text": [
      "Decoding [[72,12,6]] code with AC...\n",
      "Decoding [[72,12,6]] code with BP_OSD...\n",
      "\n",
      " Decoder | Logical error probability | Total CPU time (all cores), s\n",
      "---------------------------------------------------------------------\n",
      " AC      |                     0.081 |\t\t6.7747\n",
      " BP_OSD  |                     0.088 |\t\t228.7675\n"
     ]
    }
   ],
   "source": [
    "decoding_results = {}\n",
    "server_cpu_workers = 8\n",
    "decoders = [\n",
    "    Decoder(\n",
    "        decoder_type=DecoderType.AC,\n",
    "        parameters={\"decompose_errors\": False, \"bp_rounds\": 99, \"ac_kappa_proportion\": 0.02},\n",
    "        parallel_jobs=server_cpu_workers,\n",
    "        use_experimental_graph=False,\n",
    "    ),\n",
    "    Decoder(\n",
    "        decoder_type=DecoderType.BP_OSD,\n",
    "        parameters={\"decompose_errors\": False, \"max_bp_rounds\": 10_000, \"combination_sweep_order\": 0},\n",
    "        parallel_jobs=server_cpu_workers,\n",
    "        use_experimental_graph=False,\n",
    "    )\n",
    "]\n",
    "\n",
    "for decoder in decoders:\n",
    "    print(f\"Decoding {code_name} code with {decoder.decoder_type.value}...\")\n",
    "    qldpc_results = client.decode(\n",
    "        detectors=detectors,\n",
    "        observables=observables,\n",
    "        decoder=decoder,\n",
    "        noisy_stim_circuit=noisy_circuit,\n",
    "    )\n",
    "    decoding_results[decoder.decoder_type] = qldpc_results\n",
    "\n",
    "print(\"\\n Decoder | Logical error probability | Total CPU time (all cores), s\")\n",
    "print(\"-\" * 69)\n",
    "for decoder, result in decoding_results.items():\n",
    "    decoding_time = sum(result.times)\n",
    "    print(f\" {decoder.value:7s} | {result.get_logical_error_probability():25.2} |\\t\\t{decoding_time:.4f}\")\n"
   ]
  }
 ],
 "metadata": {
  "kernelspec": {
   "display_name": "deltakit-explorer-py3.10",
   "language": "python",
   "name": "python3"
  },
  "language_info": {
   "codemirror_mode": {
    "name": "ipython",
    "version": 3
   },
   "file_extension": ".py",
   "mimetype": "text/x-python",
   "name": "python",
   "nbconvert_exporter": "python",
   "pygments_lexer": "ipython3",
   "version": "3.10.15"
  }
 },
 "nbformat": 4,
 "nbformat_minor": 5
}
