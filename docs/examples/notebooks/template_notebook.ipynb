{
 "cells": [
  {
   "cell_type": "markdown",
   "id": "e9d1bf94",
   "metadata": {},
   "source": [
    "*Want to follow along? {nb-download}`Download this notebook.<template_notebook.ipynb>`*"
   ]
  },
  {
   "cell_type": "code",
   "execution_count": 1,
   "id": "2356e00d-8c91-4104-b72f-4fe1d87b484f",
   "metadata": {},
   "outputs": [],
   "source": [
    "from __future__ import annotations\n",
    "\n",
    "from deltakit.circuit.gates import PauliBasis\n",
    "from deltakit.explorer import Client, enums, types\n",
    "\n",
    "client = Client.get_instance()"
   ]
  },
  {
   "cell_type": "code",
   "execution_count": null,
   "id": "2943b692-eaef-48c2-9b6d-4074338f451a",
   "metadata": {},
   "outputs": [],
   "source": [
    "# your code here, e.g. circuit generation:\n",
    "\n",
    "result = client.generate_circuit(\n",
    "    types.QECExperimentDefinition(\n",
    "        experiment_type=enums.QECExperimentType.QUANTUM_MEMORY,\n",
    "        code_type=enums.QECECodeType.REPETITION,\n",
    "        num_rounds=1,\n",
    "        observable_basis=PauliBasis.Z,\n",
    "        parameters=types.CircuitParameters(sizes=types.Sizes([2]))\n",
    "    )\n",
    ")"
   ]
  }
 ],
 "metadata": {
  "kernelspec": {
   "display_name": "Python (dkx)",
   "language": "python",
   "name": "dkx"
  },
  "language_info": {
   "codemirror_mode": {
    "name": "ipython",
    "version": 3
   },
   "file_extension": ".py",
   "mimetype": "text/x-python",
   "name": "python",
   "nbconvert_exporter": "python",
   "pygments_lexer": "ipython3",
   "version": "3.10.13"
  }
 },
 "nbformat": 4,
 "nbformat_minor": 5
}
