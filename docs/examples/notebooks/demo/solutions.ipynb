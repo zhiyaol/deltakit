{
 "cells": [
  {
   "cell_type": "markdown",
   "id": "90436110",
   "metadata": {},
   "source": [
    "## Exercise #1\n",
    "\n",
    "*Want to follow along? {nb-download}`Download this notebook.<solutions.ipynb>`*\n",
    "\n",
    "We decoder one particular experiment, and every time you run it, you should have similar numbers.\n",
    "What we are often interested in is HOW logical error probability respond to different parameter tweaking.\n",
    "\n",
    "Your first task is to complete the following code. For a fixed noise model and a fixed decoder,\n",
    "plot how repetition code scales with size."
   ]
  },
  {
   "cell_type": "code",
   "execution_count": null,
   "id": "b216cd06",
   "metadata": {},
   "outputs": [],
   "source": [
    "from __future__ import annotations\n",
    "from deltakit.circuit.gates import PauliBasis\n",
    "import matplotlib.pyplot as plt\n",
    "\n",
    "distances = [3, 5, 7, 9, 11]\n",
    "le_probabilities = []\n",
    "for distance in distances:\n",
    "    # update experiment parameters\n",
    "    experiment.parameters = types.CircuitParameters.from_sizes([distance])\n",
    "    experiment.num_rounds = distance\n",
    "    noise = types.SI1000NoiseModel(0.01, 0.0)\n",
    "\n",
    "    circuit = client.generate_circuit(experiment)\n",
    "    noisy_circuit = client.add_noise(circuit, noise)\n",
    "\n",
    "    measurements, _ = client.simulate_stim_circuit(noisy_circuit, 100_000)\n",
    "    detectors, observables = measurements.to_detectors_and_observables(noisy_circuit)\n",
    "\n",
    "    decoder = types.Decoder(enums.DecoderType.MWPM)\n",
    "    decoding_result = client.decode(detectors, observables, decoder, noisy_circuit)\n",
    "    le_probabilities.append(decoding_result.get_logical_error_probability())\n",
    "\n",
    "plt.plot(distances, le_probabilities, label=\"logical error probability,\\nrepcode+MWPM\")\n",
    "plt.xlabel(\"distance\")\n",
    "plt.ylabel(\"logical error probability\")\n",
    "plt.legend()\n",
    "plt.grid()"
   ]
  },
  {
   "cell_type": "markdown",
   "id": "5280cab7",
   "metadata": {},
   "source": [
    "## Exercise #3\n",
    "\n",
    "Plot a 3D diagram for a rotated planar code, Z-memory experiment which has error distance 3 (sizes=[3, 3]), and 3 rounds of syndrome measurements. Set basis gates to `None`."
   ]
  },
  {
   "cell_type": "code",
   "execution_count": null,
   "id": "30922b7e",
   "metadata": {},
   "outputs": [],
   "source": [
    "experiment = types.QECExperimentDefinition(\n",
    "    experiment_type=enums.QECExperimentType.QUANTUM_MEMORY,\n",
    "    code_type=enums.QECECodeType.ROTATED_PLANAR,\n",
    "    observable_basis=PauliBasis.Z,\n",
    "    num_rounds=3,\n",
    "    parameters=types.CircuitParameters.from_sizes([3, 3]),\n",
    ")\n",
    "experiment = types.QECExperimentDefinition.get_rotated_planar_z_quantum_memory(3, 3)\n",
    "circuit = client.generate_circuit(experiment)\n",
    "display(stim.Circuit(circuit).diagram(type=\"timeline-3d\"))"
   ]
  }
 ],
 "metadata": {
  "language_info": {
   "codemirror_mode": {
    "name": "ipython",
    "version": 3
   },
   "file_extension": ".py",
   "mimetype": "text/x-python",
   "name": "python",
   "nbconvert_exporter": "python",
   "pygments_lexer": "ipython3",
   "version": "3.10.13"
  }
 },
 "nbformat": 4,
 "nbformat_minor": 5
}
