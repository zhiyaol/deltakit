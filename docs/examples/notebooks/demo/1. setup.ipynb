{
 "cells": [
  {
   "cell_type": "markdown",
   "id": "c58ffd06",
   "metadata": {},
   "source": [
    "# Setting up everything\n",
    "\n",
    "*Want to follow along? {nb-download}`Download this notebook.<1. setup.ipynb>`*\n",
    "\n",
    "First of all, make sure you have the python library installed.\n",
    "\n",
    "If you are an external user, you will have received a python wheel file. If you are an internal user, please download this wheel (`.whl` file) [from the latest release](https://github.com/riverlane/deltakit/releases/latest).\n",
    "\n",
    "Then please run the following steps in console (Linux, MacOS):\n",
    "\n",
    "```bash\n",
    "# create yourself a folder to store all necessary artefacts\n",
    "mkdir deltakit\n",
    "cd deltakit\n",
    "\n",
    "#create a new python virtual environment\n",
    "python -m venv .deltakit-venv\n",
    "\n",
    "# enter the venv\n",
    "source .deltakit-venv/bin/activate\n",
    "\n",
    "# install jupyterlab and make this venv compatible with jupyter\n",
    "pip install jupyterlab ipykernel\n",
    "\n",
    "# add the kernel to jupyterlab\n",
    "python -m ipykernel install --user --name=qecp-venv --display-name \"Python (qec platform)\"\n",
    "\n",
    "# then install the library\n",
    "pip install deltakit\n",
    "```\n",
    "\n",
    "If you are running this from WSL (linux shell in Windows), you may also benefit from installing this utilities package:\n",
    "\n",
    "```bash\n",
    "apt install wslu\n",
    "```\n",
    "\n",
    "And finally run jupyter lab:\n",
    "\n",
    "```bash\n",
    "# start jupyter lab\n",
    "jupyter lab\n",
    "```\n",
    "\n",
    "After you complete these steps the browser will open at http://localhost:8888/lab/ and show you the interface, pointing to the current folder. If you create a new notebook, you will be able to choose your kernel in a drop-down in the right top corner.\n",
    "\n",
    "### Using with VSCode\n",
    "\n",
    "You may use this kernel inside VSCode.\n",
    "\n",
    "1. In your VSCode project, create a notebook:\n",
    "    > `Ctrl+Shift+P` (`Cmd+Shift+P` for Mac) > Jupyter: create Jupyter notebook.\n",
    "\n",
    "2. Pick the kernel. For this, copy the link from the terminal (will look like `http://localhost:8888/lab?token=...`), and then change the kernel of the notebook:\n",
    "    > Select Another Kernel... > Existing Jupyter Server...\n",
    "\n",
    "Paste your link there and press Enter. Then choose your newly created kernel."
   ]
  },
  {
   "cell_type": "markdown",
   "id": "561d2b58",
   "metadata": {},
   "source": [
    "## Obtaining the token\n",
    "\n",
    "Visit [Deltakit web site](https://deltakit.riverlane.com/), press \"Sign In\", then Register, and then follow the instructions."
   ]
  },
  {
   "cell_type": "markdown",
   "id": "1ef07c9b",
   "metadata": {},
   "source": [
    "## Persisting the token\n",
    "\n",
    "Now you need to persist your access token.\n",
    "\n",
    "You will need to do this only **once**, it will be saved in the user's local storage\n",
    "and will be loaded every time you create a `Server` object."
   ]
  },
  {
   "cell_type": "code",
   "execution_count": null,
   "id": "6de67003",
   "metadata": {},
   "outputs": [],
   "source": [
    "from deltakit.explorer import Client\n",
    "\n",
    "Client.set_token(\"your_token_here\")"
   ]
  },
  {
   "cell_type": "markdown",
   "id": "c0186135",
   "metadata": {},
   "source": [
    "## Health check\n",
    "\n",
    "And now, the last step. Validate, that the token allows you to send tasks to the server."
   ]
  },
  {
   "cell_type": "code",
   "execution_count": null,
   "id": "402afac3",
   "metadata": {},
   "outputs": [],
   "source": [
    "from deltakit.explorer import types, Client\n",
    "\n",
    "experiment = types.QECExperimentDefinition.get_repetition_z_quantum_memory(3, 1)\n",
    "server = Client.get_instance()\n",
    "print(server.generate_circuit(experiment))"
   ]
  },
  {
   "cell_type": "markdown",
   "id": "7aad3fdc",
   "metadata": {},
   "source": [
    "Amazing! You've done everything needed to start doing QEC. Please proceed to [Quick Start notebook](2.%20quick%20start.ipynb)."
   ]
  }
 ],
 "metadata": {
  "kernelspec": {
   "display_name": "deltakit-explorer-py3.10",
   "language": "python",
   "name": "python3"
  },
  "language_info": {
   "codemirror_mode": {
    "name": "ipython",
    "version": 3
   },
   "file_extension": ".py",
   "mimetype": "text/x-python",
   "name": "python",
   "nbconvert_exporter": "python",
   "pygments_lexer": "ipython3",
   "version": "3.10.15"
  }
 },
 "nbformat": 4,
 "nbformat_minor": 5
}
