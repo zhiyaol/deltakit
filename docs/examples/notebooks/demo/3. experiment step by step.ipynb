{
 "cells": [
  {
   "cell_type": "markdown",
   "id": "849b3e53",
   "metadata": {
    "vscode": {
     "languageId": "plaintext"
    }
   },
   "source": [
    "# Step-by-step through the experiment\n",
    "\n",
    "*Want to follow along? {nb-download}`Download this notebook.<3. experiment step by step.ipynb>`*\n",
    "\n",
    "## 1. Circuit generation"
   ]
  },
  {
   "cell_type": "code",
   "execution_count": null,
   "id": "3d714f0e",
   "metadata": {},
   "outputs": [],
   "source": [
    "from __future__ import annotations\n",
    "\n",
    "import stim\n",
    "from deltakit.circuit.gates import PauliBasis\n",
    "from deltakit.explorer import Client, enums, types\n",
    "\n",
    "client = Client.get_instance()\n",
    "ion_gates = [\"SQRT_XX\", \"X\", \"Y\", \"Z\", \"SQRT_X\", \"SQRT_X_DAG\", \"S\", \"S_DAG\", \"MZ\", \"RZ\"]\n",
    "\n",
    "experiment = types.QECExperimentDefinition(\n",
    "    experiment_type=enums.QECExperimentType.QUANTUM_MEMORY,  # we perform a quantum memory experiment\n",
    "    code_type=enums.QECECodeType.REPETITION,                 # we use repetition code for QEC\n",
    "    observable_basis=PauliBasis.Z,                           # this is a Z-basis experiment. We reset and measure in Z\n",
    "    num_rounds=1,                                            # smallest number of \"waiting rounds\"\n",
    "    parameters=types.CircuitParameters.from_sizes([3]),      # this is distance-3 (can correct chains of errors up to 3)\n",
    "    basis_gates=ion_gates,\n",
    ")\n",
    "\n",
    "# shortcut\n",
    "experiment = types.QECExperimentDefinition.get_repetition_z_quantum_memory(\n",
    "    3, 1, ion_gates)\n",
    "\n",
    "circuit = client.generate_circuit(experiment)\n",
    "display(stim.Circuit(circuit).diagram(type=\"timeline-svg\"))"
   ]
  },
  {
   "cell_type": "markdown",
   "id": "c964e48b",
   "metadata": {},
   "source": [
    "Here `M` gates represent measurements of physical qubits.\n",
    "Two of these measurements are marked with `DETECTORS` annotation, meaning these measurement values will be used to construct a parity check (aka \"syndrome\", data for the decoder).\n",
    "\n",
    "Next type of diagrams is useful to capture spatial and temporal relations:"
   ]
  },
  {
   "cell_type": "code",
   "execution_count": null,
   "id": "ae50690b",
   "metadata": {},
   "outputs": [],
   "source": [
    "display(stim.Circuit(circuit).diagram(type=\"timeline-3d\"))"
   ]
  },
  {
   "cell_type": "markdown",
   "id": "250f318b",
   "metadata": {},
   "source": [
    "You may also benefit from STIM and OpenQASM representations:"
   ]
  },
  {
   "cell_type": "code",
   "execution_count": null,
   "id": "fe022812",
   "metadata": {},
   "outputs": [],
   "source": [
    "print(circuit)\n",
    "print(stim.Circuit(circuit).to_qasm(open_qasm_version=3, skip_dets_and_obs=False))"
   ]
  },
  {
   "cell_type": "markdown",
   "id": "b535e80e",
   "metadata": {},
   "source": [
    "Experiment may me modified to capture you ideas. What if it ran for more error correction \"rounds\"?"
   ]
  },
  {
   "cell_type": "code",
   "execution_count": null,
   "id": "84c11741",
   "metadata": {},
   "outputs": [],
   "source": [
    "experiment.num_rounds = 3\n",
    "circuit = client.generate_circuit(experiment_definition=experiment)\n",
    "display(stim.Circuit(circuit).diagram(type=\"timeline-svg\"))\n",
    "# display(stim.Circuit(circuit).diagram(type=\"timeline-3d\"))"
   ]
  },
  {
   "cell_type": "markdown",
   "id": "2b35c986",
   "metadata": {},
   "source": [
    "## Exercise #3\n",
    "\n",
    "Plot a 3D diagram for a rotated planar code, Z-memory experiment which has error distance 3 (sizes=[3, 3]), and 3 rounds of syndrome extraction (ancillary qubit measurement). Set basis gates to `None`."
   ]
  },
  {
   "cell_type": "code",
   "execution_count": null,
   "id": "5b1303e5",
   "metadata": {},
   "outputs": [],
   "source": [
    "experiment = types.QECExperimentDefinition(\n",
    "    ... # TODO\n",
    ")\n",
    "circuit = client.generate_circuit(experiment)\n",
    "display(stim.Circuit(circuit).diagram(type=\"timeline-3d\"))"
   ]
  },
  {
   "cell_type": "markdown",
   "id": "f9b7c663",
   "metadata": {},
   "source": [
    "**Takeways**:\n",
    "- Experiment definition object in\n",
    "- STIM circuit out\n",
    "\n",
    "## 2. Noise\n",
    "\n",
    "Realistic noise models are essential for two major purposes:\n",
    "1. We supply decoders with valuable information about probabilities of different error mechanisms, and allow them to choose most likely reasons of observed detectors.\n",
    "2. We enable realistic simulation of circuits, which is the only opportunity due to the lack of QPU hardware."
   ]
  },
  {
   "cell_type": "code",
   "execution_count": null,
   "id": "c1b44ea3",
   "metadata": {},
   "outputs": [],
   "source": [
    "experiment = types.QECExperimentDefinition.get_repetition_z_quantum_memory(3, 1, ion_gates)\n",
    "circuit = client.generate_circuit(experiment_definition=experiment)\n",
    "realistic_noise = types.PhysicalNoiseModel.get_ion_trap_noise()\n",
    "# some realistic Ion Trap noise: https://arxiv.org/pdf/2406.12007\n",
    "rqc_noise = types.PhysicalNoiseModel(\n",
    "    t_1=53e-6,\n",
    "    t_2=30e-6,\n",
    "    time_1_qubit_gate=1e-6,\n",
    "    time_2_qubit_gate=1e-6,\n",
    "    time_measurement=32e-7,\n",
    "    time_reset=200e-9,\n",
    "    p_1_qubit_gate_error=1 - 0.9995,\n",
    "    p_2_qubit_gate_error=1 - 0.963,\n",
    "    p_reset_error=0.01,\n",
    "    p_meas_qubit_error=1 - 0.9975,\n",
    "    p_readout_flip=0.0,\n",
    ")\n",
    "noisy_circuit = client.add_noise(circuit, rqc_noise)\n",
    "display(stim.Circuit(noisy_circuit).diagram(type=\"timeline-svg\"))"
   ]
  },
  {
   "cell_type": "markdown",
   "id": "c0daf840",
   "metadata": {},
   "source": [
    "**Takeways**:\n",
    "- STIM circuit comes it\n",
    "- \"noisy\" STIM circuit goes out\n",
    "\n",
    "## 3. Simulation\n",
    "\n",
    "Noisy circuit is a self-contained combination of experiment definition and a QPU. Unlike the qiskit/qasm execution paradigm, STIM allows noise to be the first class citizen of the quantum program. So, having a noisy circuit, you need nothing else to simulate.\n",
    "\n",
    "This is how a noiseless circuit will execute:"
   ]
  },
  {
   "cell_type": "code",
   "execution_count": null,
   "id": "23db7e03",
   "metadata": {},
   "outputs": [],
   "source": [
    "measurements, leakage = client.simulate_stim_circuit(circuit, shots=30)  # we don't use leakage for now\n",
    "\n",
    "detectors, observables = measurements.to_detectors_and_observables(circuit)"
   ]
  },
  {
   "cell_type": "markdown",
   "id": "3526e0f8",
   "metadata": {},
   "source": [
    "And these are results for a noisy circuit:"
   ]
  },
  {
   "cell_type": "code",
   "execution_count": null,
   "id": "0b3ed319",
   "metadata": {},
   "outputs": [],
   "source": [
    "noisy_measurements, leakage = client.simulate_stim_circuit(noisy_circuit, shots=30)\n",
    "\n",
    "detectors, observables = noisy_measurements.to_detectors_and_observables(noisy_circuit)"
   ]
  },
  {
   "cell_type": "markdown",
   "id": "1ed29947",
   "metadata": {},
   "source": [
    "**Takeways**:\n",
    "- Noisy STIM comes in\n",
    "- a 0/1 table (`numpy` array) goes out. Rows represent \"shots\". In measurements table columns are measurements in the order of their appearance. (NB: we display them transposed for a compact view)\n",
    "\n",
    "## Decoding"
   ]
  },
  {
   "cell_type": "code",
   "execution_count": null,
   "id": "2d09f340",
   "metadata": {},
   "outputs": [],
   "source": [
    "decoder = types.Decoder(decoder_type=enums.DecoderType.LCD)\n",
    "\n",
    "decoding_result = client.decode(\n",
    "    detectors=detectors,\n",
    "    observables=observables,\n",
    "    decoder=decoder,\n",
    "    noisy_stim_circuit=noisy_circuit\n",
    ")\n",
    "\n",
    "def print_result(decoder: str, result: types.DecodingResult):\n",
    "    pass\n",
    "\n",
    "\n",
    "print_result(\"LCD\", decoding_result)"
   ]
  },
  {
   "cell_type": "markdown",
   "id": "d2482baf",
   "metadata": {},
   "source": [
    "**Takeways**:\n",
    "- Circuit, detectors and observables (0/1 tables) come in\n",
    "- Predictions table and statistics goes out"
   ]
  }
 ],
 "metadata": {
  "kernelspec": {
   "display_name": "deltakit-explorer-py3.10",
   "language": "python",
   "name": "python3"
  },
  "language_info": {
   "codemirror_mode": {
    "name": "ipython",
    "version": 3
   },
   "file_extension": ".py",
   "mimetype": "text/x-python",
   "name": "python",
   "nbconvert_exporter": "python",
   "pygments_lexer": "ipython3",
   "version": "3.10.15"
  }
 },
 "nbformat": 4,
 "nbformat_minor": 5
}
