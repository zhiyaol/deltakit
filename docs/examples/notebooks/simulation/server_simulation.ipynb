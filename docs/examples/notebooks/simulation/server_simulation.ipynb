{
 "cells": [
  {
   "cell_type": "markdown",
   "id": "2be04d35",
   "metadata": {},
   "source": [
    "# Simulation of STIM-like circuits\n",
    "\n",
    "*Want to follow along? {nb-download}`Download this notebook.<server_simulation.ipynb>`*\n",
    "\n",
    "Deltakit provides both client-side and server-side simulation capabilities.\n",
    "For typical simulations involving only features provided by STIM, simulation can be performed locally; this has the advantage of avoiding data transfer and network latency for small circuits.\n",
    "If the simulation involves advanced features, such as leakage support, simulations will be performed on a Deltakit server."
   ]
  },
  {
   "cell_type": "markdown",
   "id": "1974adf6",
   "metadata": {},
   "source": [
    "## Simple simulation example\n",
    "\n",
    "In this example we run a circuit to prepare Bell's state. Measurements are random, but they should be perfectly correlated."
   ]
  },
  {
   "cell_type": "code",
   "execution_count": 1,
   "id": "ed86ee2c-5674-4881-a857-87b1b302c461",
   "metadata": {},
   "outputs": [],
   "source": [
    "from deltakit.explorer.simulation import simulate_with_stim\n",
    "\n",
    "bell_circuit = \"\"\"\n",
    "R 0 1\n",
    "H 0\n",
    "CX 0 1\n",
    "M 0 1\n",
    "\"\"\""
   ]
  },
  {
   "cell_type": "markdown",
   "id": "cc7b7d80-ce18-4040-90dc-ce36dec9d20d",
   "metadata": {},
   "source": [
    "By default, simulations run locally."
   ]
  },
  {
   "cell_type": "code",
   "execution_count": 2,
   "id": "d7356be0-e1f1-4a73-89da-106160088a8c",
   "metadata": {},
   "outputs": [
    {
     "data": {
      "text/plain": [
       "Measurements(data=RAMData(data_format=<DataFormat.B8: 'b8'>, content=array([[0, 0],\n",
       "       [1, 1],\n",
       "       [0, 0],\n",
       "       [1, 1],\n",
       "       [0, 0],\n",
       "       [1, 1],\n",
       "       [1, 1],\n",
       "       [0, 0]], dtype=uint8), data_width=-1))"
      ]
     },
     "execution_count": 2,
     "metadata": {},
     "output_type": "execute_result"
    }
   ],
   "source": [
    "measurements, _ = simulate_with_stim(bell_circuit, shots=8)\n",
    "measurements"
   ]
  },
  {
   "cell_type": "markdown",
   "id": "ead4f233-729c-4036-bae9-789501a2ba58",
   "metadata": {},
   "source": [
    "When a `Client` instance is provided using the `client` parameter, simulations are run on the cloud."
   ]
  },
  {
   "cell_type": "code",
   "execution_count": 4,
   "id": "fd7c6752-d40b-4c4c-99ec-889cea69ec12",
   "metadata": {},
   "outputs": [
    {
     "data": {
      "text/plain": [
       "Measurements(data=RAMData(data_format=<DataFormat.B8: 'b8'>, content=array([[0, 0],\n",
       "       [0, 0],\n",
       "       [0, 0],\n",
       "       [1, 1],\n",
       "       [0, 0],\n",
       "       [1, 1],\n",
       "       [0, 0],\n",
       "       [1, 1]], dtype=uint8), data_width=2))"
      ]
     },
     "execution_count": 4,
     "metadata": {},
     "output_type": "execute_result"
    }
   ],
   "source": [
    "from deltakit.explorer import Client\n",
    "Client.set_token('<your token here>')  # see \"Setup\" documentation\n",
    "client = Client.get_instance()\n",
    "measurements, _ = simulate_with_stim(bell_circuit, shots=8, client=client)\n",
    "measurements"
   ]
  },
  {
   "cell_type": "markdown",
   "id": "9bf7fb33",
   "metadata": {},
   "source": [
    "## Leakage simulation\n",
    "\n",
    "Server-side simulator supports additional (not included in STIM) instructions that enable simulation of leakage. `LEAKAGE(probability) [list of targets]` defines a probabilistic leakage event.\n",
    "This line will generate leakage event of 1% probability on qubits 0, 1 and 2. \n",
    "\n",
    "```\n",
    "LEAKAGE(0.01) 0 1 2\n",
    "```\n",
    "\n",
    "The `HERALD_LEAKAGE_EVENT [list of target]` operator works very similar to a measurement instruction and records bits of information about the leakage state of the qubits.\n",
    "They should always accompain measurement instructions. This is how instructions work together:\n",
    "\n",
    "```\n",
    "R 0 1\n",
    "\n",
    "LEAKAGE(1.0) 1          # leakage with 100% probability\n",
    "M 0                     # measurement value for qubit 0\n",
    "HERALD_LEAKAGE_EVENT 0  # leakage state for qubit 0, will be 0\n",
    "M 1                     # measurement value for qubit 1, unpredictable\n",
    "HERALD_LEAKAGE_EVENT 1  # leakage state for qubit 1, will be 1\n",
    "```\n",
    "\n",
    "The code below runs an example with probabilistic leakage. The `client` argument must be provided when running simulations involving leakage."
   ]
  },
  {
   "cell_type": "code",
   "execution_count": 5,
   "id": "0321b9d3",
   "metadata": {},
   "outputs": [],
   "source": [
    "leakage_bell_stim = \"\"\"\n",
    "R 0 1\n",
    "LEAKAGE(0.5) 1   # qubit 1 leaks 50%% of the time\n",
    "M 0 1\n",
    "HERALD_LEAKAGE_EVENT 0 1\n",
    "\"\"\"\n",
    "measurements, leakage = simulate_with_stim(\n",
    "    stim_circuit=leakage_bell_stim,\n",
    "    shots=10,\n",
    "    client=client,\n",
    ")"
   ]
  },
  {
   "cell_type": "code",
   "execution_count": 6,
   "id": "2009fab2-3988-4618-81b4-c01780d9b5e0",
   "metadata": {},
   "outputs": [
    {
     "data": {
      "text/plain": [
       "Measurements(data=RAMData(data_format=<DataFormat.B8: 'b8'>, content=array([[0, 0],\n",
       "       [0, 0],\n",
       "       [0, 0],\n",
       "       [0, 1],\n",
       "       [0, 1],\n",
       "       [0, 0],\n",
       "       [0, 0],\n",
       "       [0, 1],\n",
       "       [0, 0],\n",
       "       [0, 0]], dtype=uint8), data_width=2))"
      ]
     },
     "execution_count": 6,
     "metadata": {},
     "output_type": "execute_result"
    }
   ],
   "source": [
    "measurements"
   ]
  },
  {
   "cell_type": "code",
   "execution_count": 7,
   "id": "4ccbde36-c2a1-473f-90e6-0678c1fdd0e4",
   "metadata": {},
   "outputs": [
    {
     "data": {
      "text/plain": [
       "LeakageFlags(data=RAMData(data_format=<DataFormat.B8: 'b8'>, content=array([[0, 0],\n",
       "       [0, 1],\n",
       "       [0, 1],\n",
       "       [0, 1],\n",
       "       [0, 1],\n",
       "       [0, 1],\n",
       "       [0, 0],\n",
       "       [0, 1],\n",
       "       [0, 0],\n",
       "       [0, 0]], dtype=uint8), data_width=2))"
      ]
     },
     "execution_count": 7,
     "metadata": {},
     "output_type": "execute_result"
    }
   ],
   "source": [
    "leakage"
   ]
  }
 ],
 "metadata": {
  "kernelspec": {
   "display_name": "Python 3 (ipykernel)",
   "language": "python",
   "name": "python3"
  },
  "language_info": {
   "codemirror_mode": {
    "name": "ipython",
    "version": 3
   },
   "file_extension": ".py",
   "mimetype": "text/x-python",
   "name": "python",
   "nbconvert_exporter": "python",
   "pygments_lexer": "ipython3",
   "version": "3.11.13"
  }
 },
 "nbformat": 4,
 "nbformat_minor": 5
}
